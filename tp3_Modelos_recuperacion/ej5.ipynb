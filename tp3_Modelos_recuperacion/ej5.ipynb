{
 "cells": [
  {
   "cell_type": "code",
   "execution_count": 127,
   "metadata": {},
   "outputs": [],
   "source": [
    "import csv\n",
    "from operator import itemgetter\n",
    "from scipy.stats import spearmanr\n"
   ]
  },
  {
   "cell_type": "code",
   "execution_count": null,
   "metadata": {},
   "outputs": [],
   "source": []
  },
  {
   "cell_type": "code",
   "execution_count": 128,
   "metadata": {},
   "outputs": [],
   "source": [
    "def read_res_top(dirname,top,query):\n",
    "    #j5/TF_IDF_15.res\n",
    "    with open(dirname) as csv_tf_idf:\n",
    "        csv_reader = csv.reader(csv_tf_idf, delimiter=' ')\n",
    "        model_results={}\n",
    "        top_x_values=[]\n",
    "\n",
    "        for row in csv_reader:\n",
    "            ##row[3] ranking\n",
    "            ##row[0] query id\n",
    "            ##row[2] document id\n",
    "            if ((int(row[3]) < top) and (int(row[0])==query)):\n",
    "                top_x_values.append((row[2],row[3]))\n",
    "\n",
    "                \n",
    "        return top_x_values   \n"
   ]
  },
  {
   "cell_type": "code",
   "execution_count": 129,
   "metadata": {},
   "outputs": [
    {
     "name": "stdout",
     "output_type": "stream",
     "text": [
      "[('d154', '0'), ('d132', '1'), ('d6', '2'), ('d82', '3'), ('d163', '4'), ('d79', '5'), ('d151', '6'), ('d53', '7'), ('d135', '8'), ('d50', '9')]\n",
      "[('d129', '0'), ('d5', '1'), ('d103', '2'), ('d79', '3'), ('d152', '4'), ('d102', '5'), ('d144', '6'), ('d162', '7'), ('d40', '8'), ('d132', '9')]\n"
     ]
    }
   ],
   "source": [
    "tf_idf = read_res_top('ej5/TF_IDF_15.res',10,1)\n",
    "bm25 = read_res_top('ej5/BM25_16.res',10,1)\n",
    "print(tf_idf)\n",
    "print(bm25)"
   ]
  },
  {
   "cell_type": "code",
   "execution_count": 134,
   "metadata": {},
   "outputs": [],
   "source": [
    "def spearman_corr(model1,model2):\n",
    "    model1_extend=[]\n",
    "    model2_extend=[]\n",
    "    model1_extend.extend(model1)\n",
    "    model2_extend.extend(model2)\n",
    "    count_model1=0\n",
    "    count_model2=0\n",
    "    for rank in model1:       \n",
    "        if rank[0] not in model2:\n",
    "            model2_extend.append((rank[0],str(len(model2_extend))))\n",
    "    for ran in model2:\n",
    "        if rank[0] not in model1:\n",
    "            model1_extend.append((rank[0],str(len(model1_extend))))\n",
    "    #print(model2_extend.sort(key=operator.itemgetter(0)))\n",
    "    sorted_model1=sorted(model1_extend,key=itemgetter(0))\n",
    "    sorted_model2=sorted(model2_extend,key=itemgetter(0))\n",
    "    \n",
    "#    tf_idf = read_res_top('ej5/TF_IDF_15.res',top_rank)\n",
    "#    bm25 = read_res_top('ej5/BM25_16.res',top_rank)\n",
    "    #print(list(list(zip(*sorted_model1))[1]))\n",
    "    #print(list(list(zip(*sorted_model2))[1]))\n",
    "    #print(sorted_model2)\n",
    "    \n",
    "    return(spearmanr(list(list(zip(*sorted_model1))[1]), list(list(zip(*sorted_model2))[1]))[0])\n",
    " \n"
   ]
  },
  {
   "cell_type": "code",
   "execution_count": 135,
   "metadata": {},
   "outputs": [
    {
     "data": {
      "text/plain": [
       "-0.06829882988298829"
      ]
     },
     "execution_count": 135,
     "metadata": {},
     "output_type": "execute_result"
    }
   ],
   "source": [
    "spearman_corr(tf_idf,bm25)"
   ]
  },
  {
   "cell_type": "code",
   "execution_count": 142,
   "metadata": {},
   "outputs": [
    {
     "name": "stdout",
     "output_type": "stream",
     "text": [
      "QUERY 1\n",
      "\t top 10 \t -0.4812030075187969\n",
      "\t top 25 \t 0.074093637454982\n",
      "\t top 50 \t 0.0038643864386438635\n",
      "QUERY 2\n",
      "\t top 10 \t 0.28421052631578947\n",
      "\t top 25 \t 0.23697478991596638\n",
      "\t top 50 \t 0.19008700870087003\n",
      "QUERY 3\n",
      "\t top 10 \t -0.5398496240601504\n",
      "\t top 25 \t 0.11135654261704682\n",
      "\t top 50 \t 0.13388538853885387\n",
      "QUERY 4\n",
      "\t top 10 \t 0.26315789473684204\n",
      "\t top 25 \t -0.12528211284513804\n",
      "\t top 50 \t -0.20062406240624062\n",
      "QUERY 5\n",
      "\t top 10 \t 0.3233082706766917\n",
      "\t top 25 \t 0.039711884753901555\n",
      "\t top 50 \t -0.06829882988298829\n"
     ]
    }
   ],
   "source": [
    "querys=[1,2,3,4,5]\n",
    "for query in querys:\n",
    "    print(\"QUERY\",query)\n",
    "    ranks =[10,25,50]\n",
    "    for rank in ranks:\n",
    "        \n",
    "        tf_idf = read_res_top('ej5/TF_IDF_15.res',rank,query)\n",
    "\n",
    "        bm25 = read_res_top('ej5/BM25_16.res',rank,query)\n",
    "\n",
    "        print('\\t',\"top\",rank,'\\t',spearman_corr(tf_idf,bm25))"
   ]
  },
  {
   "cell_type": "code",
   "execution_count": null,
   "metadata": {},
   "outputs": [],
   "source": []
  }
 ],
 "metadata": {
  "kernelspec": {
   "display_name": "Python 3",
   "language": "python",
   "name": "python3"
  },
  "language_info": {
   "codemirror_mode": {
    "name": "ipython",
    "version": 3
   },
   "file_extension": ".py",
   "mimetype": "text/x-python",
   "name": "python",
   "nbconvert_exporter": "python",
   "pygments_lexer": "ipython3",
   "version": "3.6.7"
  }
 },
 "nbformat": 4,
 "nbformat_minor": 2
}
