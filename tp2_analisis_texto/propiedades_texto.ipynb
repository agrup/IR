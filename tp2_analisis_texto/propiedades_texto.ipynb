{
 "cells": [
  {
   "cell_type": "markdown",
   "metadata": {},
   "source": [
    "7.\n",
    "==\n",
    "En este ejercicio se propone verificar la predicción de ley de Zipf. \n",
    "Para ello, descargue desde Project Gutenberg el texto del Quijote de Cervantes \n",
    "    y escriba un programa que extraiga los términos y calcule sus frecuencias. \n",
    "Calcule la curva de ajuste utilizando la función Polyfit del módulo NymPy. \n",
    "Con los datos crudos y los estimados grafique en la notebook ambas distribuciones \n",
    "    (haga 2 gráficos, uno en escala lineal y otro en log-log). \n",
    "¿Cómo se comporta la predicción? \n",
    "¿Qué conclusiones puede obtener? \n",
    "    Verifique que el ajuste obtenido se comporta mejor para un rango de valores que excluye los primeros y\n",
    "    los últimos dato\n",
    "\n"
   ]
  },
  {
   "cell_type": "code",
   "execution_count": 32,
   "metadata": {},
   "outputs": [],
   "source": [
    "from os.path import isdir\n",
    "from os import listdir\n",
    "from modulos import tokenizer \n",
    "from modulos import dictionary\n",
    "import numpy as np\n",
    "from matplotlib import pyplot as plt\n",
    "from sklearn.metrics import r2_score"
   ]
  },
  {
   "cell_type": "markdown",
   "metadata": {},
   "source": [
    "Extraigo los terminos del quijote\n",
    "================================\n",
    "Para eso defino la funcion get_terms()\n"
   ]
  },
  {
   "cell_type": "code",
   "execution_count": 15,
   "metadata": {},
   "outputs": [],
   "source": [
    "def get_terms(file,file_empty_words= False):\n",
    "    word_dic = {}\n",
    "    lines = open(file,'r',errors = 'ignore').readlines()\n",
    "    tokens = tokenizer.tokenizar(lines)\n",
    "    if file_empty_words:\n",
    "        stop_words = open(file_empty_words,'r').read()\n",
    "        tokens = dictionary.sacar_palabras_vacias(tokens,stop_words)\n",
    "        \n",
    "    for token in tokens:\n",
    "        if(token in word_dic):      \n",
    "            word_dic[token] += 1\n",
    "        else:\n",
    "            word_dic[token] = 1\n",
    "    return word_dic\n",
    "     \n"
   ]
  },
  {
   "cell_type": "markdown",
   "metadata": {},
   "source": [
    "Funcion Para ordenar el diccionario"
   ]
  },
  {
   "cell_type": "code",
   "execution_count": 3,
   "metadata": {},
   "outputs": [],
   "source": [
    "def sort_dic(dic):\n",
    "    \n",
    "    return ((i,dic[i],idx+1) for idx,i in enumerate(sorted (dic,key=dic.get, reverse=True))  )\n",
    "       "
   ]
  },
  {
   "cell_type": "code",
   "execution_count": 101,
   "metadata": {},
   "outputs": [],
   "source": [
    "def graficar (list):\n",
    "    x=[]\n",
    "    y=[]\n",
    "    x_log=[]\n",
    "    y_log=[]\n",
    "    #((x.append(value), y.apend(index)) for term,value,index in list)\n",
    "    for term,value,index in list:\n",
    "        x.append(index)\n",
    "        y.append(value)\n",
    "        \n",
    "    ajuste = np.polyfit(np.log(x),np.log(y),1)\n",
    "    recta =np.poly1d(ajuste)\n",
    "    ypred = recta(np.log(x))\n",
    "    \n",
    "    ajuste_l =np.polyfit(x,y,1)\n",
    "    recta_l = np.poly1d(ajuste_l)\n",
    "    ypred_l = recta_l(x)\n",
    "\n",
    "    r_cuad = r2_score(np.log(y),ypred)\n",
    "    \n",
    "   \n",
    "    \n",
    "    plt.plot(x,y,x,ypred_l)\n",
    "    plt.title(\"Lineal\") \n",
    "    plt.xlabel(\"Ranking\") \n",
    "    plt.ylabel(\"Frecuencia\") \n",
    "    plt.show()\n",
    "    plt.plot(np.log(x),np.log(y),np.log(x),ypred)\n",
    "    plt.title(\"Logaritmico\") \n",
    "    plt.xlabel(\"Ranking\") \n",
    "    plt.ylabel(\"Frecuencia\")\n",
    "    plt.show()\n",
    "    \n",
    "    \n",
    "    "
   ]
  },
  {
   "cell_type": "code",
   "execution_count": 159,
   "metadata": {},
   "outputs": [
    {
     "data": {
      "image/png": "[encoded data removed]",
      "text/plain": [
       "<Figure size 432x288 with 1 Axes>"
      ]
     },
     "metadata": {
      "needs_background": "light"
     },
     "output_type": "display_data"
    },
    {
     "data": {
      "image/png": "[encoded data removed]",
      "text/plain": [
       "<Figure size 432x288 with 1 Axes>"
      ]
     },
     "metadata": {
      "needs_background": "light"
     },
     "output_type": "display_data"
    }
   ],
   "source": [
    "graficar(sort_dic(get_terms('gutemberg/pg2000.txt','extras/vacias.txt')))"
   ]
  },
  {
   "cell_type": "markdown",
   "metadata": {},
   "source": [
    "En el grafico lineal se ve que en los primeros y ultimos terminos la recta naranja(recta predicta), no ajusta correctamente algo que el el grafico logaritmico se ve mas pronunciadamente. Se puede concluir que la mayor cantidad de terminos en los extremos inclina la recta de prediccion, y no logra un ajuste correcto. para esto se elminan los extremos\n"
   ]
  },
  {
   "cell_type": "code",
   "execution_count": 292,
   "metadata": {},
   "outputs": [],
   "source": [
    "def graficar2 (lista,extrems=100):\n",
    "    x=[]\n",
    "    y=[]\n",
    "    x_log=[]\n",
    "    y_log=[]\n",
    "    \n",
    "    list_aux=(list(lista))\n",
    "    \n",
    "    long= len(list_aux)\n",
    "    minimo = long*extrems//100\n",
    "    maximo = long -minimo\n",
    "    lista = list_aux[int(minimo):int(maximo)]\n",
    " \n",
    "    for term,value,index in lista:\n",
    "        x.append(index)\n",
    "        y.append(value)\n",
    "        \n",
    "    ajuste = np.polyfit(np.log(x),np.log(y),1)\n",
    "    recta =np.poly1d(ajuste)\n",
    "    ypred = recta(np.log(x))\n",
    "    \n",
    "    ajuste_l =np.polyfit(x,y,1)\n",
    "    recta_l = np.poly1d(ajuste_l)\n",
    "    ypred_l = recta_l(x)\n",
    "\n",
    "    r_cuad = r2_score(np.log(y),ypred)\n",
    "    \n",
    "   \n",
    "    \n",
    "    plt.plot(x,y,x,ypred_l)\n",
    "    plt.title(\"Lineal\") \n",
    "    plt.xlabel(\"Ranking\") \n",
    "    plt.ylabel(\"Frecuencia\") \n",
    "    plt.show()\n",
    "    plt.plot(np.log(x),np.log(y),np.log(x),ypred)\n",
    "    plt.title(\"Logaritmico\") \n",
    "    plt.xlabel(\"Ranking\") \n",
    "    plt.ylabel(\"Frecuencia\")\n",
    "    plt.show()"
   ]
  },
  {
   "cell_type": "code",
   "execution_count": 293,
   "metadata": {},
   "outputs": [
    {
     "data": {
      "image/png": "[encoded data removed]",
      "text/plain": [
       "<Figure size 432x288 with 1 Axes>"
      ]
     },
     "metadata": {
      "needs_background": "light"
     },
     "output_type": "display_data"
    },
    {
     "data": {
      "image/png": "[encoded data removed]",
      "text/plain": [
       "<Figure size 432x288 with 1 Axes>"
      ]
     },
     "metadata": {
      "needs_background": "light"
     },
     "output_type": "display_data"
    }
   ],
   "source": [
    "graficar2(sort_dic(get_terms('gutemberg/pg2000.txt','extras/vacias.txt')),5)"
   ]
  },
  {
   "cell_type": "markdown",
   "metadata": {},
   "source": [
    "En este caso se puede ver que sin los extremos la curva ajusta mucho mejor, "
   ]
  },
  {
   "cell_type": "markdown",
   "metadata": {},
   "source": [
    "# Ejercicio 8 TP2 \n",
    "Usando los datos del ejercicios anterior y de acuerdo a la ley de Zipf, calcule la proporción del total de términos para aquellos que tienen frecuencia f = {100, 1000, 10000}. Verifique respecto de los valores reales. ¿Qué conclusión puede obtener?"
   ]
  },
  {
   "cell_type": "code",
   "execution_count": 305,
   "metadata": {},
   "outputs": [],
   "source": [
    "def ranking(lista):\n",
    "    x=[]\n",
    "    y=[]\n",
    "    x_log=[]\n",
    "    y_log=[]\n",
    "    \n",
    "   \n",
    "    for term,value,index in lista:\n",
    "        x.append(index)\n",
    "        y.append(value)\n",
    "        \n",
    "    ajuste = np.polyfit(np.log(x),np.log(y),1)\n",
    "    recta =np.poly1d(ajuste)\n",
    "    ypred = recta(np.log(x))\n",
    "    \n",
    "    print(ajuste[0],ajuste[1])\n",
    "    "
   ]
  },
  {
   "cell_type": "code",
   "execution_count": 306,
   "metadata": {},
   "outputs": [
    {
     "name": "stdout",
     "output_type": "stream",
     "text": [
      "-1.146549661565909 11.143378303877677\n"
     ]
    }
   ],
   "source": [
    "ranking(list(sort_dic(get_terms('gutemberg/pg2000.txt','extras/vacias.txt'))))"
   ]
  },
  {
   "cell_type": "code",
   "execution_count": null,
   "metadata": {},
   "outputs": [],
   "source": []
  }
 ],
 "metadata": {
  "kernelspec": {
   "display_name": "Python 3",
   "language": "python",
   "name": "python3"
  },
  "language_info": {
   "codemirror_mode": {
    "name": "ipython",
    "version": 3
   },
   "file_extension": ".py",
   "mimetype": "text/x-python",
   "name": "python",
   "nbconvert_exporter": "python",
   "pygments_lexer": "ipython3",
   "version": "3.6.7"
  }
 },
 "nbformat": 4,
 "nbformat_minor": 2
}
